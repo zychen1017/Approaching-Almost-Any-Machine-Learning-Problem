{
  "nbformat": 4,
  "nbformat_minor": 0,
  "metadata": {
    "colab": {
      "provenance": [],
      "toc_visible": true,
      "authorship_tag": "ABX9TyMIi9QiV6KUcg/0CqkcAo8t",
      "include_colab_link": true
    },
    "kernelspec": {
      "name": "python3",
      "display_name": "Python 3"
    },
    "language_info": {
      "name": "python"
    }
  },
  "cells": [
    {
      "cell_type": "markdown",
      "metadata": {
        "id": "view-in-github",
        "colab_type": "text"
      },
      "source": [
        "<a href=\"https://colab.research.google.com/github/zychen1017/Approaching-Almost-Any-Machine-Learning-Problem/blob/main/Evaluation_Metrics.ipynb\" target=\"_parent\"><img src=\"https://colab.research.google.com/assets/colab-badge.svg\" alt=\"Open In Colab\"/></a>"
      ]
    },
    {
      "cell_type": "markdown",
      "source": [
        "1. The most commom metrics used for Classification problems:\n",
        "    - Accuracy\n",
        "    - Precision(P)\n",
        "    - Recall(R)\n",
        "    - F1 score(F1)\n",
        "    - Area under the ROC (Receiver Operating Characteristic) curve or simply AUC(AUC)\n",
        "    ---\n",
        "    (multi-label classification.)\n",
        "    - Log loss\n",
        "    - Precision at k (P@k)\n",
        "    - Average precision at k (AP@k)\n",
        "    - Mean average precision at k (MAP@k)"
      ],
      "metadata": {
        "id": "fuEIwXtrgfdt"
      }
    },
    {
      "cell_type": "markdown",
      "source": [
        "2. The most commom metrics used for Regreesion problems:\n",
        "    - Mean absolute error (MAE)\n",
        "    - Mean squared error (MSE)\n",
        "    - Root mean squared error (RMSE)\n",
        "    - Root mean squared logarithmic error (RMSLE)\n",
        "    - Mean percentage error (MPE)\n",
        "    - Mean absolute percentage error (MAPE)\n",
        "    - R2\n"
      ],
      "metadata": {
        "id": "-3uQJm3dhKuv"
      }
    },
    {
      "cell_type": "markdown",
      "source": [
        "\n",
        "\n",
        "---\n",
        "\n",
        "\n",
        "\n",
        "---\n",
        "\n"
      ],
      "metadata": {
        "id": "50L_X60YnH76"
      }
    },
    {
      "cell_type": "markdown",
      "source": [
        "- **Calculation**:\n",
        "\n",
        "    True positive (TP), True negative (TN), False positive (FP), False negative (FN)\n",
        "\n",
        "    **Accuracy Score** = (TP + TN) / (TP + TN + FP + FN)\n",
        "\n",
        "    measures the accuracy of a model when predicting the positive class, means the ratio of correctly predicted positive samples to all predictive positive samples\n",
        "\n",
        "    **Precision** = TP / (TP + FP)\n",
        "\n",
        "    assesses the model's ability to capture positive class samples, indicating the ratio of correctly predicted positive samples to all actual positive samples\n",
        "\n",
        "    **F1 Score** = 2TP / (2TP + FP + FN)\n",
        "\n",
        "    F1 score also ranges from 0 to 1,\n",
        "    and a perfect prediction model has an F1 of 1. When dealing with datasets that have\n",
        "    skewed targets, we should look at F1 (or precision and recall) instead of accuracy.\n",
        "\n",
        "    **Classification_report:** is a comprehensive report containing performance metrics of a classification model."
      ],
      "metadata": {
        "id": "jly8vF3nnsOp"
      }
    },
    {
      "cell_type": "code",
      "source": [
        "from sklearn import metrics\n",
        "\n",
        "l1 = [0,1,1,1,0,0,0,1]\n",
        "l2 = [0,1,0,1,0,1,0,0]\n",
        "accuracy_score = metrics.accuracy_score(l1,l2)\n",
        "accuracy_score\n"
      ],
      "metadata": {
        "colab": {
          "base_uri": "https://localhost:8080/"
        },
        "id": "wX8NV5MYrfKQ",
        "outputId": "2c6bcd61-35bc-48a3-b869-663541fee214"
      },
      "execution_count": 58,
      "outputs": [
        {
          "output_type": "execute_result",
          "data": {
            "text/plain": [
              "0.625"
            ]
          },
          "metadata": {},
          "execution_count": 58
        }
      ]
    },
    {
      "cell_type": "markdown",
      "source": [
        "**Generally, accuracy is an intuitive metic, but in the case of imbalanced\n",
        "classes, it may be influenced by the sample distribution.**"
      ],
      "metadata": {
        "id": "F3-TNWBksLe4"
      }
    },
    {
      "cell_type": "code",
      "source": [
        "precision_score = metrics.precision_score(l1,l2)\n",
        "precision_score"
      ],
      "metadata": {
        "colab": {
          "base_uri": "https://localhost:8080/"
        },
        "id": "xNEW7tcxnB_z",
        "outputId": "0d369e42-b538-470e-b77d-4d0ebaedde04"
      },
      "execution_count": 59,
      "outputs": [
        {
          "output_type": "execute_result",
          "data": {
            "text/plain": [
              "0.6666666666666666"
            ]
          },
          "metadata": {},
          "execution_count": 59
        }
      ]
    },
    {
      "cell_type": "code",
      "source": [
        "recall_score = metrics.recall_score(l1,l2)\n",
        "recall_score"
      ],
      "metadata": {
        "colab": {
          "base_uri": "https://localhost:8080/"
        },
        "id": "XSr4GTrFphb9",
        "outputId": "57a7ea60-2ae5-4a6e-a951-74aa8168e9d1"
      },
      "execution_count": 60,
      "outputs": [
        {
          "output_type": "execute_result",
          "data": {
            "text/plain": [
              "0.5"
            ]
          },
          "metadata": {},
          "execution_count": 60
        }
      ]
    },
    {
      "cell_type": "markdown",
      "source": [
        "**For a “good” model, our precision and recall values should be high.**"
      ],
      "metadata": {
        "id": "MIlvQxb1s3Ui"
      }
    },
    {
      "cell_type": "code",
      "source": [
        "f1_score = metrics.f1_score(l1,l2)\n",
        "f1_score"
      ],
      "metadata": {
        "colab": {
          "base_uri": "https://localhost:8080/"
        },
        "id": "oc5I534hqDIB",
        "outputId": "30a7aa60-8712-4782-8b89-4d3730f73056"
      },
      "execution_count": 61,
      "outputs": [
        {
          "output_type": "execute_result",
          "data": {
            "text/plain": [
              "0.5714285714285715"
            ]
          },
          "metadata": {},
          "execution_count": 61
        }
      ]
    },
    {
      "cell_type": "code",
      "source": [
        "f1_score = metrics.f1_score(l1,l2,average='weighted') # average = none(default), macro(each class have an equal contribution), micro(imbalanced datasets), weighted(imbalanced datasets)\n",
        "f1_score"
      ],
      "metadata": {
        "colab": {
          "base_uri": "https://localhost:8080/"
        },
        "id": "sXtwgpdDul6m",
        "outputId": "dc8bfc8b-d42b-4c22-9002-a488ccfd5dda"
      },
      "execution_count": 62,
      "outputs": [
        {
          "output_type": "execute_result",
          "data": {
            "text/plain": [
              "0.6190476190476191"
            ]
          },
          "metadata": {},
          "execution_count": 62
        }
      ]
    },
    {
      "cell_type": "markdown",
      "source": [
        "This curve is known as the **Receiver Operating Characteristic (ROC)**. And\n",
        "if we calculate the area under this ROC curve, we are calculating another metric **Area Under Curve(AUC)**\n",
        "which is used very often when you have a dataset which has **skewed binary targets**."
      ],
      "metadata": {
        "id": "KiXL3q_cv6a5"
      }
    },
    {
      "cell_type": "markdown",
      "source": [
        "**TPR or True Positive Rate**: TPR = TP / (TP + FN), TPR or recall is also known as **sensitivity**.\n",
        "\n",
        "**FPR or False Positive Rate**: FPR = FP / (TN + FP), is known as **specificity**\n"
      ],
      "metadata": {
        "id": "poqOx1-jzlYT"
      }
    },
    {
      "cell_type": "code",
      "source": [
        "y_true = [0, 0, 0, 0, 1, 0, 1, 0, 0, 1, 0, 1, 0, 0, 1]\n",
        "\n",
        "# y_pred = model.predict(x_test)                     # prediction\n",
        "# y_score = model.predict_proba(x_test)[:,1]         # predict probiability, usually [:,1] to extract the proba associated with the positive class.\n",
        "y_pred = [0, 1, 0, 0, 0, 0, 1, 0, 0, 1, 1, 1, 0, 0, 1]\n",
        "y_scores = [0.1, 0.3, 0.2, 0.6, 0.8, 0.05, 0.9, 0.5, 0.3, 0.66, 0.3, 0.2, 0.85, 0.15, 0.99]\n",
        "\n",
        "report = metrics.classification_report(y_true,y_pred)\n",
        "print(report)\n",
        "roc_auc = metrics.roc_auc_score(y_true, y_scores)\n",
        "print(roc_auc)"
      ],
      "metadata": {
        "colab": {
          "base_uri": "https://localhost:8080/"
        },
        "id": "0kFNivhDuzd2",
        "outputId": "99cd53c6-2f06-42b2-cf54-a6e2580353be"
      },
      "execution_count": 63,
      "outputs": [
        {
          "output_type": "stream",
          "name": "stdout",
          "text": [
            "              precision    recall  f1-score   support\n",
            "\n",
            "           0       0.89      0.80      0.84        10\n",
            "           1       0.67      0.80      0.73         5\n",
            "\n",
            "    accuracy                           0.80        15\n",
            "   macro avg       0.78      0.80      0.78        15\n",
            "weighted avg       0.81      0.80      0.80        15\n",
            "\n",
            "0.8300000000000001\n"
          ]
        }
      ]
    },
    {
      "cell_type": "markdown",
      "source": [
        "**roc_auc Explaination:**\n",
        "\n",
        "Suppose you get an AUC of 0.83 when you build a model. This means that if you select a random data from your\n",
        "positive sample and another random data from negative sample, then this data is positive will rank higher\n",
        "than a data is negative with a probability of 0.83."
      ],
      "metadata": {
        "id": "A6if4rrJ3Ge1"
      }
    },
    {
      "cell_type": "code",
      "source": [
        "# log_loss metrics for multiple label classification\n",
        "# The sensitivity of log loss to probability makes it may not be the most appropriate choice in some cases,\n",
        "# especially if the categories are unbalanced or there are outliers.\n",
        "\n",
        "logloss = metrics.log_loss(y_true, y_scores)\n",
        "print(logloss)"
      ],
      "metadata": {
        "colab": {
          "base_uri": "https://localhost:8080/"
        },
        "id": "doUSAQ0tKemU",
        "outputId": "830411c6-1fad-4cf2-ddc3-73f337e81a2f"
      },
      "execution_count": 64,
      "outputs": [
        {
          "output_type": "stream",
          "name": "stdout",
          "text": [
            "0.49882711861432294\n"
          ]
        }
      ]
    },
    {
      "cell_type": "code",
      "source": [
        "# A  Complete Example\n",
        "import warnings\n",
        "warnings.filterwarnings(\"ignore\")\n",
        "\n",
        "from sklearn.metrics import roc_curve, roc_auc_score, log_loss, classification_report\n",
        "from sklearn import datasets\n",
        "from sklearn.model_selection import train_test_split\n",
        "from sklearn.linear_model import LogisticRegression\n",
        "import matplotlib.pyplot as plt\n",
        "\n",
        "# training dataset\n",
        "X, y  = datasets.make_classification(n_samples=1000, n_features=20, n_classes=2, random_state=42)\n",
        "\n",
        "X_train, X_test, y_train, y_test = train_test_split(X, y, test_size =0.2, random_state=42)\n",
        "\n",
        "model = LogisticRegression()\n",
        "model.fit(X_train, y_train)\n",
        "\n",
        "# predicting proba\n",
        "y_pred = model.predict(X_test)\n",
        "y_scores = model.predict_proba(X_test)[:,1]\n",
        "###### Binary classification, two columns represent the proba of the sample belonging to the negative and the positive respectively.\n",
        "###### In this scenario, [:,1] to extract the proba associated with the positive class.\n",
        "\n",
        "# print report\n",
        "report = classification_report(y_test, y_pred)\n",
        "print(report)\n",
        "\n",
        "# calculate ROC AUC\n",
        "roc_auc = roc_auc_score(y_test, y_scores)\n",
        "\n",
        "# getting ROC curve point\n",
        "fpr, tpr, thresholds = roc_curve(y_test, y_scores)\n",
        "\n",
        "# paint curve\n",
        "plt.figure(figsize=(5,5))\n",
        "plt.stackplot(fpr, tpr, color='steelblue', alpha =0.5, edgecolor = 'black')\n",
        "plt.plot(fpr, tpr, color='black', label = f'ROC curve (area = {roc_auc:0.2f})') # 1. use label to show the roc_auc\n",
        "plt.plot([0,1],[0,1], linestyle='--',color='red')\n",
        "# plt.text(0.3,0.2,f'ROC curve (area = {roc_auc:0.2f})') # 2. add text into plt\n",
        "plt.xlabel('False Positive Rate')\n",
        "plt.ylabel('True Positive Rate')\n",
        "plt.title('ROC Curve')\n",
        "plt.legend()\n",
        "plt.show()"
      ],
      "metadata": {
        "colab": {
          "base_uri": "https://localhost:8080/",
          "height": 643
        },
        "id": "6cZH22QRwtR8",
        "outputId": "f402d561-ab2a-4e7f-de66-5a184a12f125"
      },
      "execution_count": 65,
      "outputs": [
        {
          "output_type": "stream",
          "name": "stdout",
          "text": [
            "              precision    recall  f1-score   support\n",
            "\n",
            "           0       0.80      0.91      0.85        93\n",
            "           1       0.91      0.80      0.86       107\n",
            "\n",
            "    accuracy                           0.85       200\n",
            "   macro avg       0.86      0.86      0.85       200\n",
            "weighted avg       0.86      0.85      0.86       200\n",
            "\n"
          ]
        },
        {
          "output_type": "display_data",
          "data": {
            "text/plain": [
              "<Figure size 500x500 with 1 Axes>"
            ],
            "image/png": "[encoded data removed]"
          },
          "metadata": {}
        }
      ]
    },
    {
      "cell_type": "markdown",
      "source": [
        "**Confusion matrix**:\n",
        "\n",
        "A confusion matrix is nothing\n",
        "but a table of TP, FP, TN and FN. Using the confusion matrix, you can quickly see\n",
        "how many samples were misclassified and how many were classified correctly.\n",
        "\n"
      ],
      "metadata": {
        "id": "PRTeA46KMHcK"
      }
    },
    {
      "cell_type": "code",
      "source": [
        "import seaborn as sns\n",
        "y_true = [0, 0, 0, 0, 1, 0, 1, 0, 0, 1, 0, 1, 0, 0, 1]\n",
        "\n",
        "# y_pred = model.predict(x_test)\n",
        "y_pred = [0, 1, 0, 0, 0, 0, 1, 0, 0, 1, 1, 1, 0, 0, 1]\n",
        "\n",
        "cm = metrics.confusion_matrix(y_true, y_pred)\n",
        "print(cm)\n",
        "\n",
        "# print cm using sns\n",
        "plt.figure(figsize=(4,4))\n",
        "sns.heatmap(cm, annot=True, cbar=False, xticklabels=['Predict 0','Predict 1'], yticklabels=['Actual 0','Actual 1'])\n",
        "plt.title('Confusion Matrix')\n",
        "plt.show()"
      ],
      "metadata": {
        "colab": {
          "base_uri": "https://localhost:8080/",
          "height": 426
        },
        "id": "XfCXgn1982Eg",
        "outputId": "2eb73aad-9d81-4862-91b3-e92da2658633"
      },
      "execution_count": 74,
      "outputs": [
        {
          "output_type": "stream",
          "name": "stdout",
          "text": [
            "[[8 2]\n",
            " [1 4]]\n"
          ]
        },
        {
          "output_type": "display_data",
          "data": {
            "text/plain": [
              "<Figure size 400x400 with 1 Axes>"
            ],
            "image/png": "[encoded data removed]"
          },
          "metadata": {}
        }
      ]
    },
    {
      "cell_type": "markdown",
      "source": [
        "\n",
        "\n",
        "---\n",
        "\n",
        "\n",
        "\n",
        "---\n",
        "\n",
        "\n",
        "\n",
        "---\n",
        "\n",
        "\n",
        "\n",
        "---\n",
        "\n",
        "\n",
        "\n",
        "---\n",
        "\n"
      ],
      "metadata": {
        "id": "BcMZixKhVNul"
      }
    },
    {
      "cell_type": "markdown",
      "source": [
        "**mean squared error (MSE)**"
      ],
      "metadata": {
        "id": "rO3QafGHV1Fz"
      }
    },
    {
      "cell_type": "code",
      "source": [
        "# This is how we calculation MSE in python\n",
        "def mean_squared_error(y_true, y_pred):\n",
        "    # initialize error at 0\n",
        "    error = 0\n",
        "    # loop over all samples in the true and predicted list\n",
        "    for yt, yp in zip(y_true, y_pred):\n",
        "    # calculate squared error\n",
        "    # and add to error\n",
        "        error += (yt - yp) ** 2\n",
        "    # return mean error\n",
        "        return error / len(y_true)"
      ],
      "metadata": {
        "id": "pXGnUNUFOA0N"
      },
      "execution_count": 79,
      "outputs": []
    },
    {
      "cell_type": "code",
      "source": [
        "# A complete example for regression\n",
        "\n",
        "import numpy as np\n",
        "import matplotlib.pyplot as plt\n",
        "import sklearn.datasets\n",
        "from sklearn.model_selection import train_test_split\n",
        "from sklearn.linear_model import LinearRegression\n",
        "from sklearn.metrics import mean_absolute_error, mean_squared_error, r2_score\n",
        "\n",
        "# create some data\n",
        "X, y = datasets.make_regression(n_samples=200, n_features=1, noise=10, random_state=42)\n",
        "\n",
        "# split data\n",
        "X_train, X_test, y_train, y_test = train_test_split(X, y, test_size =0.2, random_state=42)\n",
        "\n",
        "# train data with linearregression\n",
        "model = LinearRegression()\n",
        "model.fit(X_train, y_train)\n",
        "\n",
        "# prediction\n",
        "y_pred = model.predict(X_test)\n",
        "\n",
        "# evaluation\n",
        "mae = mean_absolute_error(y_test, y_pred)\n",
        "mse = mean_squared_error(y_test, y_pred)\n",
        "rmse = np.sqrt(mse)\n",
        "r_squared = r2_score(y_test, y_pred)\n",
        "\n",
        "# print these value\n",
        "print(f'MAE: {mae:0.4f}')\n",
        "print(f'MSE: {mse:0.4f}')\n",
        "print(f'RMSE: {rmse:0.4f}')\n",
        "print(F'R-squared: {r_squared:0.4f}')\n",
        "\n",
        "# paint this dataset and linear function (Simple linear regression can paint)\n",
        "plt.scatter(X_test, y_pred, color='black')\n",
        "plt.plot(X_test, y_pred, color='blue', linewidth=1)\n",
        "plt.xlabel('X')\n",
        "plt.ylabel('y')\n",
        "plt.title('Linear Regression Model')\n",
        "plt.show()"
      ],
      "metadata": {
        "colab": {
          "base_uri": "https://localhost:8080/",
          "height": 541
        },
        "id": "61Z_GwvnXqVl",
        "outputId": "458d4553-0fb4-422c-fa87-86c5260ce1ac"
      },
      "execution_count": 101,
      "outputs": [
        {
          "output_type": "stream",
          "name": "stdout",
          "text": [
            "MAE: 8.0203\n",
            "MSE: 109.3875\n",
            "RMSE: 10.4588\n",
            "R-squared: 0.9855\n"
          ]
        },
        {
          "output_type": "display_data",
          "data": {
            "text/plain": [
              "<Figure size 640x480 with 1 Axes>"
            ],
            "image/png": "[encoded data removed]"
          },
          "metadata": {}
        }
      ]
    },
    {
      "cell_type": "code",
      "source": [],
      "metadata": {
        "id": "l7s8Ck3icHu8"
      },
      "execution_count": null,
      "outputs": []
    }
  ]
}